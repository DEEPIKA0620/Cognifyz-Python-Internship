{
 "cells": [
  {
   "cell_type": "code",
   "execution_count": 3,
   "id": "00ed5f3a-234f-4d05-9734-9829847766c7",
   "metadata": {},
   "outputs": [
    {
     "name": "stdout",
     "output_type": "stream",
     "text": [
      "invalid Email\n"
     ]
    }
   ],
   "source": [
    "def validate_email(email):\n",
    "    if \"@\" in email and \".\" in email:\n",
    "        at_index = email.index('@')\n",
    "        dot_index =email.rindex('.')\n",
    "        if 0 < at_index < dot_index < len(email) -1:\n",
    "            return True\n",
    "    return False\n",
    "email_input = \"deepika123.gamil.com\"\n",
    "if validate_email(email_input):\n",
    "    print(\"valid Email\")\n",
    "else:\n",
    "    print(\"invalid Email\")\n",
    "    "
   ]
  },
  {
   "cell_type": "code",
   "execution_count": null,
   "id": "ae8eade1-dc1a-4356-914b-b85e5d6a9598",
   "metadata": {},
   "outputs": [],
   "source": []
  },
  {
   "cell_type": "code",
   "execution_count": null,
   "id": "3bf6155d-8652-4ee9-b50f-5dee04c76fd2",
   "metadata": {},
   "outputs": [],
   "source": []
  }
 ],
 "metadata": {
  "kernelspec": {
   "display_name": "base",
   "language": "python",
   "name": "python3"
  },
  "language_info": {
   "codemirror_mode": {
    "name": "ipython",
    "version": 3
   },
   "file_extension": ".py",
   "mimetype": "text/x-python",
   "name": "python",
   "nbconvert_exporter": "python",
   "pygments_lexer": "ipython3",
   "version": "3.12.7"
  }
 },
 "nbformat": 4,
 "nbformat_minor": 5
}
