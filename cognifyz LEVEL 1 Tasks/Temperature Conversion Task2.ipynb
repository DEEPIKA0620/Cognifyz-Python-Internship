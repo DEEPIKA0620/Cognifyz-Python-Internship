{
 "cells": [
  {
   "cell_type": "code",
   "execution_count": null,
   "id": "58aaec6d-b9ac-430a-a834-398f143db48f",
   "metadata": {},
   "outputs": [],
   "source": [
    "# Task 2: TEMPERATURE CONVERSION\n",
    "\n",
    "# Task 2: TEMPERATURE CONVERSION\n",
    "\n",
    "def convert_temperature(temp, unit):\n",
    "    if unit.lower() == \"c\":\n",
    "        converted = (temp * 9/5) + 32\n",
    "        return converted, \"Fahrenheit\"\n",
    "    elif unit.lower() == \"f\":\n",
    "        converted = (temp - 32) * 5/9\n",
    "        return converted, \"Celsius\"\n",
    "    else:\n",
    "        return None, \"invalid unit\"\n",
    "\n",
    "temperature = float(input(\"Enter the temperature value: \"))\n",
    "unit = input(\"Enter the unit (C for Celsius, F for Fahrenheit): \")\n",
    "converted_value, new_unit = convert_temperature(temperature, unit)\n",
    "\n",
    "if new_unit == \"invalid unit\":\n",
    "    print(\"You entered an invalid unit. Please use 'C' or 'F'.\")\n",
    "else:\n",
    "    print(f\"Converted temperature: {converted_value:.2f} {new_unit}\")"
   ]
  },
  {
   "cell_type": "code",
   "execution_count": null,
   "id": "8c6d67f9-0e9e-470d-bd61-02fce90d238c",
   "metadata": {},
   "outputs": [],
   "source": []
  }
 ],
 "metadata": {
  "kernelspec": {
   "display_name": "Python [conda env:base] *",
   "language": "python",
   "name": "conda-base-py"
  },
  "language_info": {
   "codemirror_mode": {
    "name": "ipython",
    "version": 3
   },
   "file_extension": ".py",
   "mimetype": "text/x-python",
   "name": "python",
   "nbconvert_exporter": "python",
   "pygments_lexer": "ipython3",
   "version": "3.12.7"
  }
 },
 "nbformat": 4,
 "nbformat_minor": 5
}
