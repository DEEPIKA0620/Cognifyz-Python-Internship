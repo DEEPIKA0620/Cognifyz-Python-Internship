{
 "cells": [
  {
   "cell_type": "code",
   "execution_count": 6,
   "id": "ee04829d-23bc-47b7-9c40-29163464b78d",
   "metadata": {},
   "outputs": [
    {
     "name": "stdin",
     "output_type": "stream",
     "text": [
      "Enter a string to reverse: world\n"
     ]
    },
    {
     "name": "stdout",
     "output_type": "stream",
     "text": [
      "Reversed string: dlrow\n"
     ]
    }
   ],
   "source": [
    "def reverse_string(text):\n",
    "    reversed_text = text[::-1]\n",
    "    return reversed_text\n",
    "user_input = input(\"Enter a string to reverse:\")\n",
    "result = reverse_string(user_input)\n",
    "print(\"Reversed string:\",result)"
   ]
  },
  {
   "cell_type": "code",
   "execution_count": null,
   "id": "67f7808c-6ab7-428e-9bdb-d7ded135f588",
   "metadata": {},
   "outputs": [],
   "source": []
  },
  {
   "cell_type": "code",
   "execution_count": null,
   "id": "90c81fa0-c45b-4468-a552-22cef6bc2933",
   "metadata": {},
   "outputs": [],
   "source": []
  }
 ],
 "metadata": {
  "kernelspec": {
   "display_name": "Python [conda env:base] *",
   "language": "python",
   "name": "conda-base-py"
  },
  "language_info": {
   "codemirror_mode": {
    "name": "ipython",
    "version": 3
   },
   "file_extension": ".py",
   "mimetype": "text/x-python",
   "name": "python",
   "nbconvert_exporter": "python",
   "pygments_lexer": "ipython3",
   "version": "3.12.7"
  }
 },
 "nbformat": 4,
 "nbformat_minor": 5
}
