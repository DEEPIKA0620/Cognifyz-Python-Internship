{
 "cells": [
  {
   "cell_type": "code",
   "execution_count": 1,
   "id": "654e53e0-fc75-4eeb-b342-0fb1a7e335db",
   "metadata": {},
   "outputs": [
    {
     "name": "stdin",
     "output_type": "stream",
     "text": [
      "Enter the first number: 5\n",
      "Enter the second number: 5\n",
      "Enter an operator(+,-,*,/.%): *\n"
     ]
    },
    {
     "name": "stdout",
     "output_type": "stream",
     "text": [
      "result: 25.0\n"
     ]
    }
   ],
   "source": [
    "def calculator(a,b,operator):\n",
    "    if operator == '+':\n",
    "        return a+b\n",
    "    elif operator == '-':\n",
    "        return a-b\n",
    "    elif operator == '*':\n",
    "        return a*b\n",
    "    elif operator == '/':\n",
    "        if b==0:\n",
    "            return \"Error! Division by zero:\"\n",
    "        return a/b\n",
    "    elif operator == '%':\n",
    "        return a%b\n",
    "    else:\n",
    "        return \"Invalid operator!\"\n",
    "num1=float(input(\"Enter the first number:\"))\n",
    "num2=float(input(\"Enter the second number:\"))\n",
    "op=input(\"Enter an operator(+,-,*,/.%):\")\n",
    "output = calculator(num1,num2,op)\n",
    "print(\"result:\",output)\n",
    "            "
   ]
  },
  {
   "cell_type": "code",
   "execution_count": null,
   "id": "27ce464c-8f77-4bcd-8eaa-92e3c27bf193",
   "metadata": {},
   "outputs": [],
   "source": []
  }
 ],
 "metadata": {
  "kernelspec": {
   "display_name": "Python [conda env:base] *",
   "language": "python",
   "name": "conda-base-py"
  },
  "language_info": {
   "codemirror_mode": {
    "name": "ipython",
    "version": 3
   },
   "file_extension": ".py",
   "mimetype": "text/x-python",
   "name": "python",
   "nbconvert_exporter": "python",
   "pygments_lexer": "ipython3",
   "version": "3.12.7"
  }
 },
 "nbformat": 4,
 "nbformat_minor": 5
}
