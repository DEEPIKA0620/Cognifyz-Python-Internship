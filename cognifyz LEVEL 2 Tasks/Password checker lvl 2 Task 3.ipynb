{
 "cells": [
  {
   "cell_type": "code",
   "execution_count": 2,
   "id": "0f9967fd-f89c-4d87-855d-577d9a6eb885",
   "metadata": {},
   "outputs": [
    {
     "name": "stdout",
     "output_type": "stream",
     "text": [
      "password strength: strong\n"
     ]
    }
   ],
   "source": [
    "import re\n",
    "def check_password_strength(password):\n",
    "    length = len(password)>=8\n",
    "    has_upper = re.search(r\"[A-Z]\",password)\n",
    "    has_lower = re.search(r\"[a-z]\",password)\n",
    "    has_digit = re.search(r\"\\d\",password)\n",
    "    has_special = re.search(r\"[!@#%^&*(0.,?\\\":{}<>]\",password)\n",
    "    if all([length, has_upper,has_lower,has_digit,has_special]):\n",
    "        return \"strong\"\n",
    "    elif length and (has_upper or has_lower) and has_digit:\n",
    "        return \"moderate\"\n",
    "    else:\n",
    "        return \"weak\"\n",
    "password = \"Deepika@123\"\n",
    "print(\"password strength:\",check_password_strength(password))"
   ]
  },
  {
   "cell_type": "code",
   "execution_count": null,
   "id": "2da1a169-de31-4d20-b073-a634e9969bd4",
   "metadata": {},
   "outputs": [],
   "source": []
  }
 ],
 "metadata": {
  "kernelspec": {
   "display_name": "Python [conda env:base] *",
   "language": "python",
   "name": "conda-base-py"
  },
  "language_info": {
   "codemirror_mode": {
    "name": "ipython",
    "version": 3
   },
   "file_extension": ".py",
   "mimetype": "text/x-python",
   "name": "python",
   "nbconvert_exporter": "python",
   "pygments_lexer": "ipython3",
   "version": "3.12.7"
  }
 },
 "nbformat": 4,
 "nbformat_minor": 5
}
