{
 "cells": [
  {
   "cell_type": "code",
   "execution_count": 21,
   "id": "45d8165f-21e0-491f-888c-9a2c8529d690",
   "metadata": {},
   "outputs": [
    {
     "name": "stdout",
     "output_type": "stream",
     "text": [
      "Guess the number between 1 and 100!\n",
      "user guessed:50\n",
      "Too high! try again:\n",
      "user guessed:75\n",
      "Too high! try again:\n",
      "user guessed:4\n",
      "Too low! try again:\n",
      "user guessed:45\n",
      "Correct! You guessed it in 4 attempts!\n"
     ]
    }
   ],
   "source": [
    "import random\n",
    "\n",
    "def guessing_game_simulated():\n",
    "    secret_number = random.randint(1, 100)\n",
    "    guessed = [50,75,4,secret_number]\n",
    "    attempts = 0\n",
    "    print(\"Guess the number between 1 and 100!\")\n",
    "    for guess in guessed:\n",
    "        print(f\"user guessed:{guess}\")\n",
    "        attempts +=1\n",
    "        if guess < secret_number:\n",
    "            print(\"Too low! try again:\")\n",
    "        elif guess > secret_number:\n",
    "            print(\"Too high! try again:\")\n",
    "        else:\n",
    "            print(f\"Correct! You guessed it in {attempts} attempts!\")\n",
    "            break  \n",
    "guessing_game_simulated()"
   ]
  },
  {
   "cell_type": "code",
   "execution_count": null,
   "id": "fe7e980a-2952-49f8-a44c-490e3f498c2d",
   "metadata": {},
   "outputs": [],
   "source": []
  },
  {
   "cell_type": "code",
   "execution_count": null,
   "id": "97d684e8-6adf-42fd-86e7-1ace348c15be",
   "metadata": {},
   "outputs": [],
   "source": []
  }
 ],
 "metadata": {
  "kernelspec": {
   "display_name": "Python [conda env:base] *",
   "language": "python",
   "name": "conda-base-py"
  },
  "language_info": {
   "codemirror_mode": {
    "name": "ipython",
    "version": 3
   },
   "file_extension": ".py",
   "mimetype": "text/x-python",
   "name": "python",
   "nbconvert_exporter": "python",
   "pygments_lexer": "ipython3",
   "version": "3.12.7"
  }
 },
 "nbformat": 4,
 "nbformat_minor": 5
}
