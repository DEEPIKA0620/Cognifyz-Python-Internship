{
 "cells": [
  {
   "cell_type": "code",
   "execution_count": 7,
   "id": "f36954a5-e169-407b-8183-f3fd58651d68",
   "metadata": {},
   "outputs": [
    {
     "name": "stdout",
     "output_type": "stream",
     "text": [
      "file content:  Hello Hello world! this is deepika creating file manipulation code:\n",
      "word count (Alphabetical Order):\n",
      "\n",
      "code: 1\n",
      "creating: 1\n",
      "deepika: 1\n",
      "file: 1\n",
      "hello: 2\n",
      "is: 1\n",
      "manipulation: 1\n",
      "this: 1\n",
      "world: 1\n",
      "\n",
      "word count completed successfully\n"
     ]
    }
   ],
   "source": [
    "import os\n",
    "import string\n",
    "\n",
    "if not os.path.exists(\"sample.txt\"):\n",
    "    with open(\"sample.txt\", \"w\") as file:\n",
    "        file.write(\"Hello Hello world! this is deepika creating file manipulation code:\")\n",
    "\n",
    "# Initialize word_count dictionary\n",
    "word_count = {}\n",
    "\n",
    "with open(\"sample.txt\", \"r\") as file:\n",
    "    # Read the file content and store it in a variable\n",
    "    text = file.read()\n",
    "    print(\"file content:\", text)\n",
    "    \n",
    "    # Clean the text by removing punctuation and converting to lowercase\n",
    "    cleaned_text = text.translate(str.maketrans(\"\", \"\", string.punctuation)).lower()\n",
    "    \n",
    "    # Split the text into words\n",
    "    words = cleaned_text.split()\n",
    "    \n",
    "    # Count word occurrences\n",
    "    for word in words:\n",
    "        word_count[word] = word_count.get(word, 0) + 1\n",
    "    \n",
    "    print(\"word count (Alphabetical Order):\\n\")\n",
    "    for word in sorted(word_count):\n",
    "        print(f\"{word}: {word_count[word]}\")\n",
    "\n",
    "print(\"\\nword count completed successfully\")\n",
    "    "
   ]
  },
  {
   "cell_type": "code",
   "execution_count": null,
   "id": "04a61202-98ac-4d53-a583-9003c4d3cc53",
   "metadata": {},
   "outputs": [],
   "source": []
  }
 ],
 "metadata": {
  "kernelspec": {
   "display_name": "Python [conda env:base] *",
   "language": "python",
   "name": "conda-base-py"
  },
  "language_info": {
   "codemirror_mode": {
    "name": "ipython",
    "version": 3
   },
   "file_extension": ".py",
   "mimetype": "text/x-python",
   "name": "python",
   "nbconvert_exporter": "python",
   "pygments_lexer": "ipython3",
   "version": "3.12.7"
  }
 },
 "nbformat": 4,
 "nbformat_minor": 5
}
