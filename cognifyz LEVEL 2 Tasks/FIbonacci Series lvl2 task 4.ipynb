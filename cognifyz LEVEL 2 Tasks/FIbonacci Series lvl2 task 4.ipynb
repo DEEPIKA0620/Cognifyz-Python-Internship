{
 "cells": [
  {
   "cell_type": "code",
   "execution_count": 14,
   "id": "16f014ae-0a74-464a-bd83-285d2cc6b0a3",
   "metadata": {},
   "outputs": [
    {
     "name": "stdin",
     "output_type": "stream",
     "text": [
      "Enter the number of terms: 8\n"
     ]
    },
    {
     "name": "stdout",
     "output_type": "stream",
     "text": [
      "fibonacci sequence: [0, 1, 1, 2, 3, 5, 8, 13]\n"
     ]
    }
   ],
   "source": [
    "def generate_fibonacci(n):\n",
    "   sequence =[]\n",
    "   a,b,=0,1\n",
    "   for _ in range(n):\n",
    "        sequence.append(a)\n",
    "        a,b = b,a+b\n",
    "   return sequence\n",
    "try:\n",
    "    terms = int(input(\"Enter the number of terms:\"))\n",
    "    if terms <= 0:\n",
    "        print(\"please enter a positive number:\")\n",
    "    else:\n",
    "        fib_seq = generate_fibonacci(terms)\n",
    "        print(\"fibonacci sequence:\",fib_seq)\n",
    "except ValueError:\n",
    "        print(\"Invalid input. Please enter a valid integer\")"
   ]
  },
  {
   "cell_type": "code",
   "execution_count": null,
   "id": "efb4cbbd-57ff-4eff-b525-2492aad75a2b",
   "metadata": {},
   "outputs": [],
   "source": []
  }
 ],
 "metadata": {
  "kernelspec": {
   "display_name": "Python [conda env:base] *",
   "language": "python",
   "name": "conda-base-py"
  },
  "language_info": {
   "codemirror_mode": {
    "name": "ipython",
    "version": 3
   },
   "file_extension": ".py",
   "mimetype": "text/x-python",
   "name": "python",
   "nbconvert_exporter": "python",
   "pygments_lexer": "ipython3",
   "version": "3.12.7"
  }
 },
 "nbformat": 4,
 "nbformat_minor": 5
}
